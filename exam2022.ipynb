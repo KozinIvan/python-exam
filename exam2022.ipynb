{
 "cells": [
  {
   "cell_type": "markdown",
   "metadata": {},
   "source": [
    "# Выполнение заданий к экзамену"
   ]
  },
  {
   "cell_type": "markdown",
   "metadata": {},
   "source": [
    "#### Задание 20\n",
    "Даны списки:\n",
    "\n",
    "- a = [1, 1, 2, 3, 5, 8, 13, 21, 34, 55, 89];\n",
    "- b = [1, 2, 3, 4, 5, 6, 7, 8, 9, 10, 11, 12, 13].\n",
    "\n",
    "Нужно вернуть список, который состоит из элементов, общих для этих двух списков."
   ]
  },
  {
   "cell_type": "code",
   "execution_count": 4,
   "metadata": {},
   "outputs": [
    {
     "data": {
      "text/plain": [
       "[1, 1, 2, 3, 5, 8, 13]"
      ]
     },
     "execution_count": 4,
     "metadata": {},
     "output_type": "execute_result"
    }
   ],
   "source": [
    "a = [1, 1, 2, 3, 5, 8, 13, 21, 34, 55, 89]\n",
    "b = [1, 2, 3, 4, 5, 6, 7, 8, 9, 10, 11, 12, 13]\n",
    "c = []\n",
    "\n",
    "for aa in a:\n",
    "    for bb in b:\n",
    "        if (aa == bb):\n",
    "            c.append(aa)\n",
    "\n",
    "c"
   ]
  },
  {
   "cell_type": "markdown",
   "metadata": {},
   "source": [
    "#### Задание 21\n",
    "Дана строка. Получите новую строку, вставив между двумя симвловами исходной строки символ *. Ввыведите полученную строку.\n",
    "\n",
    "Пример:\n",
    "\n",
    "Входные данные (Python) - выходные данные (P\\*y\\*t\\*h\\*o\\*n)"
   ]
  },
  {
   "cell_type": "code",
   "execution_count": 4,
   "metadata": {},
   "outputs": [
    {
     "data": {
      "text/plain": [
       "'P*y*t*h*o*n'"
      ]
     },
     "execution_count": 4,
     "metadata": {},
     "output_type": "execute_result"
    }
   ],
   "source": [
    "a = 'Python'\n",
    "r = ''\n",
    "\n",
    "f = True\n",
    "\n",
    "for aa in a:\n",
    "    if (f): f = False; r += aa\n",
    "    else: r += '*' + aa\n",
    "\n",
    "r"
   ]
  },
  {
   "cell_type": "markdown",
   "metadata": {},
   "source": [
    "#### Задание 22\n",
    "Даны два целых числа, найти их наибольший общий делитель и наименьшее общее кратное."
   ]
  },
  {
   "cell_type": "code",
   "execution_count": 20,
   "metadata": {},
   "outputs": [
    {
     "name": "stdout",
     "output_type": "stream",
     "text": [
      "НОД: 3\n",
      "НОК: 21\n"
     ]
    }
   ],
   "source": [
    "def gcd(a, b):\n",
    "    while max(a, b) % min (a, b) != 0:\n",
    "        if a > b:\n",
    "            a = a%b\n",
    "        elif a < b:\n",
    "            b = b%a\n",
    "    return min(a, b)\n",
    "\n",
    "def lcm(a, b):\n",
    "    return int(a * b / gcd(a, b))\n",
    "\n",
    "a, b = 3, 21\n",
    "\n",
    "print('НОД: ' + str(gcd(a, b)))\n",
    "print('НОК: ' + str(lcm(a, b)))"
   ]
  }
 ],
 "metadata": {
  "interpreter": {
   "hash": "b4ade4ae6f09939d3e0420b89981bbc04e8eb04a0882c30c6b4fc62161f48d26"
  },
  "kernelspec": {
   "display_name": "Python 3.10.4 64-bit (system)",
   "language": "python",
   "name": "python3"
  },
  "language_info": {
   "codemirror_mode": {
    "name": "ipython",
    "version": 3
   },
   "file_extension": ".py",
   "mimetype": "text/x-python",
   "name": "python",
   "nbconvert_exporter": "python",
   "pygments_lexer": "ipython3",
   "version": "3.10.4"
  },
  "orig_nbformat": 4
 },
 "nbformat": 4,
 "nbformat_minor": 2
}
