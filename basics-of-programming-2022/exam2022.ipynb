{
 "cells": [
  {
   "cell_type": "markdown",
   "metadata": {},
   "source": [
    "# Выполнение заданий к экзамену 2022"
   ]
  },
  {
   "cell_type": "markdown",
   "metadata": {},
   "source": [
    "#### Задание 1\n",
    "Составить алгоритм и написать программу для вычисления суммы первых N натуральных чисел."
   ]
  },
  {
   "cell_type": "code",
   "execution_count": 6,
   "metadata": {},
   "outputs": [
    {
     "name": "stdout",
     "output_type": "stream",
     "text": [
      "Результат: 10\n"
     ]
    }
   ],
   "source": [
    "a = [1, 2, 3, 4, 5, 6, 7, 8, 9] # Изначальный массив\n",
    "n = 4 # N\n",
    "r = 0 # Результат\n",
    "\n",
    "for i in range(n):\n",
    "    r += a[i]\n",
    "\n",
    "print('Результат:', r)"
   ]
  },
  {
   "cell_type": "markdown",
   "metadata": {},
   "source": [
    "#### Задание 2\n",
    "Составить алгоритм и написать программу. Дан массив размера N. Вывести вначале его элементы с четными, а затем — с нечетными индексами."
   ]
  },
  {
   "cell_type": "code",
   "execution_count": 12,
   "metadata": {},
   "outputs": [
    {
     "name": "stdout",
     "output_type": "stream",
     "text": [
      "Нечётные числа:\n",
      "2\n",
      "4\n",
      "6\n",
      "8\n",
      "Чётные числа:\n",
      "1\n",
      "3\n",
      "5\n",
      "7\n",
      "9\n"
     ]
    }
   ],
   "source": [
    "a = [1, 2, 3, 4, 5, 6, 7, 8, 9] # Изначальный массив\n",
    "\n",
    "print('Нечётные числа:')\n",
    "for i in a:\n",
    "    if not (i % 2): # Если i не кратно 2 (нечетные числа)\n",
    "        print(i)\n",
    "\n",
    "print('Чётные числа:')\n",
    "for i in a:\n",
    "    if (i % 2): # Если i кратно 2 (четные числа)\n",
    "        print(i)"
   ]
  },
  {
   "cell_type": "markdown",
   "metadata": {},
   "source": [
    "#### Задание 3\n",
    "Считать единой строкой без пробелов набор целых чисел, удалить все дубликаты, вывести отдельными операторами вывода в порядке возрастания и в порядке убывания в виде кортежей целых чисел.\n",
    "\n",
    "Пример входных данных:\n",
    "- 28745623873465384\n",
    "\n",
    "Пример выходных данных:\n",
    "- (2, 3, 4, 5, 6, 7, 8)\n",
    "- (8, 7, 6, 5, 4, 3, 2)"
   ]
  },
  {
   "cell_type": "code",
   "execution_count": 43,
   "metadata": {},
   "outputs": [
    {
     "name": "stdout",
     "output_type": "stream",
     "text": [
      "('2', '3', '4', '5', '6', '7', '8')\n",
      "('8', '7', '6', '5', '4', '3', '2')\n"
     ]
    }
   ],
   "source": [
    "a = '28745623873465384' # Исходная строка\n",
    "\n",
    "d = tuple(sorted(set(a)))\n",
    "# 1. Переводим строку в множество (удаляются дубликаты)\n",
    "# 2. Сортируем в порядке возрастания\n",
    "# 3. Переводим в кортеж\n",
    "\n",
    "print(d)\n",
    "print(d[::-1])"
   ]
  },
  {
   "cell_type": "markdown",
   "metadata": {},
   "source": [
    "#### Задание 4\n",
    "Составить алгоритм и написать программу. Заполнить двумерный массив размера 3х3 таким образом, чтобы в главной диагонали были 1, а остальные элементы 0. Вывести массив на экран в виде матрицы."
   ]
  },
  {
   "cell_type": "code",
   "execution_count": 69,
   "metadata": {},
   "outputs": [
    {
     "data": {
      "text/plain": [
       "[[1, 0, 0], [0, 1, 0], [0, 0, 1]]"
      ]
     },
     "execution_count": 69,
     "metadata": {},
     "output_type": "execute_result"
    }
   ],
   "source": [
    "a = 3 # Размерность массива\n",
    "mas = [0] * a # Одномерный массив\n",
    "\n",
    "for i in range(a): # Двумерный массив\n",
    "    mas[i] = [0] * a\n",
    "\n",
    "for i in range(a): # Заполнение главной диагонали единицами\n",
    "    mas[i][i] = 1\n",
    "\n",
    "mas"
   ]
  },
  {
   "cell_type": "markdown",
   "metadata": {},
   "source": [
    "#### Задание 20\n",
    "Даны списки:\n",
    "\n",
    "- a = [1, 1, 2, 3, 5, 8, 13, 21, 34, 55, 89];\n",
    "- b = [1, 2, 3, 4, 5, 6, 7, 8, 9, 10, 11, 12, 13].\n",
    "\n",
    "Нужно вернуть список, который состоит из элементов, общих для этих двух списков."
   ]
  },
  {
   "cell_type": "code",
   "execution_count": 39,
   "metadata": {},
   "outputs": [
    {
     "data": {
      "text/plain": [
       "[1, 1, 2, 3, 5, 8, 13]"
      ]
     },
     "execution_count": 39,
     "metadata": {},
     "output_type": "execute_result"
    }
   ],
   "source": [
    "a = [1, 1, 2, 3, 5, 8, 13, 21, 34, 55, 89]\n",
    "b = [1, 2, 3, 4, 5, 6, 7, 8, 9, 10, 11, 12, 13]\n",
    "c = []\n",
    "\n",
    "for aa in a:\n",
    "    for bb in b:\n",
    "        if (aa == bb):\n",
    "            c.append(aa)\n",
    "\n",
    "c"
   ]
  },
  {
   "cell_type": "markdown",
   "metadata": {},
   "source": [
    "#### Задание 21\n",
    "Дана строка. Получите новую строку, вставив между двумя симвловами исходной строки символ *. Ввыведите полученную строку.\n",
    "\n",
    "Пример:\n",
    "\n",
    "Входные данные (Python) - выходные данные (P\\*y\\*t\\*h\\*o\\*n)"
   ]
  },
  {
   "cell_type": "code",
   "execution_count": 40,
   "metadata": {},
   "outputs": [
    {
     "data": {
      "text/plain": [
       "'P*y*t*h*o*n'"
      ]
     },
     "execution_count": 40,
     "metadata": {},
     "output_type": "execute_result"
    }
   ],
   "source": [
    "a = 'Python'\n",
    "r = ''\n",
    "\n",
    "f = True\n",
    "\n",
    "for aa in a:\n",
    "    if (f): f = False; r += aa\n",
    "    else: r += '*' + aa\n",
    "\n",
    "r"
   ]
  },
  {
   "cell_type": "markdown",
   "metadata": {},
   "source": [
    "#### Задание 22\n",
    "Даны два целых числа, найти их наибольший общий делитель и наименьшее общее кратное."
   ]
  },
  {
   "cell_type": "code",
   "execution_count": 41,
   "metadata": {},
   "outputs": [
    {
     "name": "stdout",
     "output_type": "stream",
     "text": [
      "НОД: 3\n",
      "НОК: 21\n"
     ]
    }
   ],
   "source": [
    "def gcd(a, b):\n",
    "    while max(a, b) % min (a, b) != 0:\n",
    "        if a > b:\n",
    "            a = a%b\n",
    "        elif a < b:\n",
    "            b = b%a\n",
    "    return min(a, b)\n",
    "\n",
    "def lcm(a, b):\n",
    "    return int(a * b / gcd(a, b))\n",
    "\n",
    "a, b = 3, 21\n",
    "\n",
    "print('НОД: ' + str(gcd(a, b)))\n",
    "print('НОК: ' + str(lcm(a, b)))"
   ]
  },
  {
   "cell_type": "markdown",
   "metadata": {},
   "source": [
    "#### Задание 23\n",
    "С клавиатуры задаётся число месяца (тип int). Необходимо определить время года (зима, весна, лето, осень) и вывести на консоль."
   ]
  },
  {
   "cell_type": "code",
   "execution_count": 42,
   "metadata": {},
   "outputs": [
    {
     "name": "stdout",
     "output_type": "stream",
     "text": [
      "Весна\n"
     ]
    }
   ],
   "source": [
    "a = int(input('Введите число: '))\n",
    "\n",
    "if a in [12, 1, 2]:\n",
    "    print('Зима')\n",
    "elif a in [3, 4, 5]:\n",
    "    print('Весна')\n",
    "elif a in [6, 7, 8]:\n",
    "    print('Лето')\n",
    "elif a in [9, 10, 11]:\n",
    "    print('Осень')\n",
    "else:\n",
    "    print('Число не распознано')"
   ]
  },
  {
   "cell_type": "markdown",
   "metadata": {},
   "source": [
    "#### Задание 24\n",
    "Составить алгоритм и написать программу. С клавиатуры задаются 5 чисел (тип int). Вывести вначале наименьшее, а затем наибольшее из данных чисел."
   ]
  },
  {
   "cell_type": "code",
   "execution_count": 43,
   "metadata": {},
   "outputs": [
    {
     "name": "stdout",
     "output_type": "stream",
     "text": [
      "Наименьшее число:  1\n",
      "Наибольшее число:  5\n"
     ]
    }
   ],
   "source": [
    "a, b, c, d, e = int(input('Введите 1 число: ')), int(input('Введите 2 число: ')), int(input('Введите 3 число: ')), int(input('Введите 4 число: ')), int(input('Введите 5 число: '))\n",
    "print('Наименьшее число: ', min(a, b, c, d, e))\n",
    "print('Наибольшее число: ', max(a, b, c, d, e))"
   ]
  },
  {
   "cell_type": "markdown",
   "metadata": {},
   "source": [
    "#### Задание 25\n",
    "Создайте массив, содержащий 10 первых нечетных чисел. Выведете элементы массива на консоль в одну строку, разделяя запятой."
   ]
  },
  {
   "cell_type": "code",
   "execution_count": 44,
   "metadata": {},
   "outputs": [
    {
     "data": {
      "text/plain": [
       "'1, 3, 5, 7, 9, 11, 13, 15, 17, 19'"
      ]
     },
     "execution_count": 44,
     "metadata": {},
     "output_type": "execute_result"
    }
   ],
   "source": [
    "a = [1, 3, 5, 7, 9, 11, 13, 15, 17, 19]\n",
    "r = ''\n",
    "f = True\n",
    "\n",
    "for aa in a:\n",
    "    if (f): f = False; r += str(aa)\n",
    "    else: r += ', ' + str(aa)\n",
    "\n",
    "r"
   ]
  }
 ],
 "metadata": {
  "interpreter": {
   "hash": "b4ade4ae6f09939d3e0420b89981bbc04e8eb04a0882c30c6b4fc62161f48d26"
  },
  "kernelspec": {
   "display_name": "Python 3.10.4 64-bit (system)",
   "language": "python",
   "name": "python3"
  },
  "language_info": {
   "codemirror_mode": {
    "name": "ipython",
    "version": 3
   },
   "file_extension": ".py",
   "mimetype": "text/x-python",
   "name": "python",
   "nbconvert_exporter": "python",
   "pygments_lexer": "ipython3",
   "version": "3.10.4"
  },
  "orig_nbformat": 4
 },
 "nbformat": 4,
 "nbformat_minor": 2
}
