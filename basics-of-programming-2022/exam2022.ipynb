{
 "cells": [
  {
   "cell_type": "markdown",
   "metadata": {},
   "source": [
    "# Выполнение заданий к экзамену 2022"
   ]
  },
  {
   "cell_type": "markdown",
   "metadata": {},
   "source": [
    "#### Задание 1\n",
    "Составить алгоритм и написать программу для вычисления суммы первых N натуральных чисел."
   ]
  },
  {
   "cell_type": "code",
   "execution_count": 6,
   "metadata": {},
   "outputs": [
    {
     "name": "stdout",
     "output_type": "stream",
     "text": [
      "Результат: 10\n"
     ]
    }
   ],
   "source": [
    "a = [1, 2, 3, 4, 5, 6, 7, 8, 9] # Изначальный массив\n",
    "n = 4 # N\n",
    "r = 0 # Результат\n",
    "\n",
    "for i in range(n):\n",
    "    r += a[i]\n",
    "\n",
    "print('Результат:', r)"
   ]
  },
  {
   "cell_type": "markdown",
   "metadata": {},
   "source": [
    "#### Задание 2\n",
    "Составить алгоритм и написать программу. Дан массив размера N. Вывести вначале его элементы с четными, а затем — с нечетными индексами."
   ]
  },
  {
   "cell_type": "code",
   "execution_count": 12,
   "metadata": {},
   "outputs": [
    {
     "name": "stdout",
     "output_type": "stream",
     "text": [
      "Нечётные числа:\n",
      "2\n",
      "4\n",
      "6\n",
      "8\n",
      "Чётные числа:\n",
      "1\n",
      "3\n",
      "5\n",
      "7\n",
      "9\n"
     ]
    }
   ],
   "source": [
    "a = [1, 2, 3, 4, 5, 6, 7, 8, 9] # Изначальный массив\n",
    "\n",
    "print('Нечётные числа:')\n",
    "for i in a:\n",
    "    if not (i % 2): # Если i не кратно 2 (нечетные числа)\n",
    "        print(i)\n",
    "\n",
    "print('Чётные числа:')\n",
    "for i in a:\n",
    "    if (i % 2): # Если i кратно 2 (четные числа)\n",
    "        print(i)"
   ]
  },
  {
   "cell_type": "markdown",
   "metadata": {},
   "source": [
    "#### Задание 3\n",
    "Считать единой строкой без пробелов набор целых чисел, удалить все дубликаты, вывести отдельными операторами вывода в порядке возрастания и в порядке убывания в виде кортежей целых чисел.\n",
    "\n",
    "Пример входных данных:\n",
    "- 28745623873465384\n",
    "\n",
    "Пример выходных данных:\n",
    "- (2, 3, 4, 5, 6, 7, 8)\n",
    "- (8, 7, 6, 5, 4, 3, 2)"
   ]
  },
  {
   "cell_type": "code",
   "execution_count": 43,
   "metadata": {},
   "outputs": [
    {
     "name": "stdout",
     "output_type": "stream",
     "text": [
      "('2', '3', '4', '5', '6', '7', '8')\n",
      "('8', '7', '6', '5', '4', '3', '2')\n"
     ]
    }
   ],
   "source": [
    "a = '28745623873465384' # Исходная строка\n",
    "\n",
    "d = tuple(sorted(set(a)))\n",
    "# 1. Переводим строку в множество (удаляются дубликаты)\n",
    "# 2. Сортируем в порядке возрастания\n",
    "# 3. Переводим в кортеж\n",
    "\n",
    "print(d)\n",
    "print(d[::-1])"
   ]
  },
  {
   "cell_type": "markdown",
   "metadata": {},
   "source": [
    "#### Задание 4\n",
    "Составить алгоритм и написать программу. Заполнить двумерный массив размера 3х3 таким образом, чтобы в главной диагонали были 1, а остальные элементы 0. Вывести массив на экран в виде матрицы."
   ]
  },
  {
   "cell_type": "code",
   "execution_count": 70,
   "metadata": {},
   "outputs": [
    {
     "name": "stdout",
     "output_type": "stream",
     "text": [
      "[1, 0, 0]\n",
      "[0, 1, 0]\n",
      "[0, 0, 1]\n"
     ]
    }
   ],
   "source": [
    "mass = []\n",
    "size = 3\n",
    "\n",
    "i = 0\n",
    "\n",
    "for row in range(size):\n",
    "    mass.append([0] * size)\n",
    "    if row == i:\n",
    "        mass[row][i] = 1\n",
    "    print(mass[row])\n",
    "    i += 1"
   ]
  },
  {
   "cell_type": "markdown",
   "metadata": {},
   "source": [
    "#### Задание 5\n",
    "Считать несколько имен людей одной строкой, записанных латиницей, через пробел, например:\n",
    "- «Anna Maria Peter».\n",
    "\n",
    "Вывести их одной строкой в порядке возрастания:\n",
    "- «Anna Maria Peter».\n",
    "\n",
    "Вывести их одной строкой в порядке убывания:\n",
    "- «Peter Maria Anna»."
   ]
  },
  {
   "cell_type": "code",
   "execution_count": 44,
   "metadata": {},
   "outputs": [
    {
     "name": "stdout",
     "output_type": "stream",
     "text": [
      "Anna Maria Peter\n",
      "Peter Maria Anna\n"
     ]
    }
   ],
   "source": [
    "a = 'Anna Maria Peter'\n",
    "\n",
    "print(' '.join(sorted(a.split())))\n",
    "print(' '.join(sorted(a.split())[::-1]))"
   ]
  },
  {
   "cell_type": "markdown",
   "metadata": {},
   "source": [
    "#### Задание 6\n",
    "Составить алгоритм и написать программу. Найти корни квадратного уравнения Ax^2 + Bx + C = 0, заданного своими коэффициентами A, B, C."
   ]
  },
  {
   "cell_type": "code",
   "execution_count": 88,
   "metadata": {},
   "outputs": [
    {
     "name": "stdout",
     "output_type": "stream",
     "text": [
      "Введите коэффициенты для уравнения\n",
      "ax^2 + bx + c = 0:\n",
      "Дискриминант D = 2900.00\n",
      "x1 = 1.93\n",
      "x2 = -51.93\n"
     ]
    }
   ],
   "source": [
    "import math\n",
    "\n",
    "print('Введите коэффициенты для уравнения')\n",
    "print('ax^2 + bx + c = 0:')\n",
    "a = float(input('a = '))\n",
    "b = float(input('b = '))\n",
    "c = float(input('c = '))\n",
    "\n",
    "d = b ** 2 - 4 * a * c\n",
    "print('Дискриминант D = %.2f' % d)\n",
    "\n",
    "if d > 0:\n",
    "    x1 = (-b + math.sqrt(d)) / (2 * a)\n",
    "    x2 = (-b - math.sqrt(d)) / (2 * a)\n",
    "    print('x1 = %.2f\\nx2 = %.2f' % (x1, x2))\n",
    "elif d == 0:\n",
    "    x = -b / (2 * a)\n",
    "    print('x = %.2f' % x)\n",
    "else:\n",
    "    print('Корней нет')"
   ]
  },
  {
   "cell_type": "markdown",
   "metadata": {},
   "source": [
    "#### Задание 7\n",
    "Считать из файла input.txt 10 чисел (числа записаны через пробел). Затем записать их произведение в файл output.txt."
   ]
  },
  {
   "cell_type": "code",
   "execution_count": 98,
   "metadata": {},
   "outputs": [
    {
     "data": {
      "text/plain": [
       "True"
      ]
     },
     "execution_count": 98,
     "metadata": {},
     "output_type": "execute_result"
    }
   ],
   "source": [
    "def read_file(f): # Функция чтения из файла\n",
    "    ff = open(f, 'r') # Открыть файл f в режиме \"только чтения\"\n",
    "    result = ''\n",
    "    for i in ff:\n",
    "        result += i\n",
    "    return result\n",
    "\n",
    "def write_file(f, s): # Функция записи в файл (f - название файла, s - строка)\n",
    "    ff = open(f, 'w') # Открыть файл f в режиме \"записи\"\n",
    "    if ff.write(s):\n",
    "        ff.close(); return True\n",
    "    else:\n",
    "        ff.close(); return False\n",
    "\n",
    "string = read_file('input.txt') # Считываем данные из файла\n",
    "numbers = string.split() # Создаём массив из цифр (разделяемые элементы пробелом = отдельные элементы массива)\n",
    "\n",
    "result = 1\n",
    "for i in numbers: # Произведение каждого элемента на результат\n",
    "    result *= int(i)\n",
    "\n",
    "write_file('output.txt', str(result)) # Записываем результат в виде строки"
   ]
  },
  {
   "cell_type": "markdown",
   "metadata": {},
   "source": [
    "#### Задание 8\n",
    "Составить алгоритм и написать программу. Дано целое число N (> 0). Вывести произведение 1·2·...·N."
   ]
  },
  {
   "cell_type": "code",
   "execution_count": 104,
   "metadata": {},
   "outputs": [
    {
     "data": {
      "text/plain": [
       "24"
      ]
     },
     "execution_count": 104,
     "metadata": {},
     "output_type": "execute_result"
    }
   ],
   "source": [
    "N = 4 # Число N\n",
    "\n",
    "result = 1\n",
    "for i in range(N):\n",
    "    result *= i + 1 # Каждый раз результат умножаем на i + 1\n",
    "\n",
    "result"
   ]
  },
  {
   "cell_type": "markdown",
   "metadata": {},
   "source": [
    "#### Задание 9\n",
    "Даны переменные x и n вычислить x в степени n с помощью цикла."
   ]
  },
  {
   "cell_type": "code",
   "execution_count": 111,
   "metadata": {},
   "outputs": [
    {
     "data": {
      "text/plain": [
       "25"
      ]
     },
     "execution_count": 111,
     "metadata": {},
     "output_type": "execute_result"
    }
   ],
   "source": [
    "x = 5 # Переменная x\n",
    "n = 2 # Переменная n\n",
    "\n",
    "result = 1\n",
    "for i in range(n):\n",
    "    result *= x # Каждый раз результат умножаем на x (возводим в степень)\n",
    "\n",
    "result"
   ]
  },
  {
   "cell_type": "markdown",
   "metadata": {},
   "source": [
    "#### Задание 10\n",
    "Составить алгоритм и написать программу. Даны две переменные целого типа: A и B. Если их значения не равны, то присвоить каждой переменной сумму этих значений, а если равны, то присвоить переменным нулевые значения."
   ]
  },
  {
   "cell_type": "code",
   "execution_count": 107,
   "metadata": {},
   "outputs": [
    {
     "name": "stdout",
     "output_type": "stream",
     "text": [
      "9 9\n"
     ]
    }
   ],
   "source": [
    "A = 3\n",
    "B = 6\n",
    "\n",
    "if A == B: # Если значения переменных равны, то\n",
    "    A1 = B1 = 0 # присвоить переменным нулевые значения\n",
    "else: # Иначе\n",
    "    A1 = B1 = (B + A) # присвоить каждой переменной сумму этих значений\n",
    "\n",
    "print(A1, B1)"
   ]
  },
  {
   "cell_type": "markdown",
   "metadata": {},
   "source": [
    "#### Задание 11\n",
    "Дан массив N целых чисел. Подсчитать среднее арифметическое чисел в массиве."
   ]
  },
  {
   "cell_type": "code",
   "execution_count": 110,
   "metadata": {},
   "outputs": [
    {
     "data": {
      "text/plain": [
       "4.833333333333333"
      ]
     },
     "execution_count": 110,
     "metadata": {},
     "output_type": "execute_result"
    }
   ],
   "source": [
    "x = [2, 4, 3, 1, 9, 10] # Дан массив\n",
    "\n",
    "sum = 0\n",
    "for i in x:\n",
    "    sum += i # Считаем сумму всех элементов массива\n",
    "\n",
    "result = sum / len(x) # Находим среднее арифметическое\n",
    "\n",
    "result"
   ]
  },
  {
   "cell_type": "markdown",
   "metadata": {},
   "source": [
    "#### Задание 12\n",
    "Составить алгоритм и написать программу. Дана длина окружности. Найти площадь круга, ограниченного этой окружностью. В качестве значения Pi использовать 3.14."
   ]
  },
  {
   "cell_type": "code",
   "execution_count": 113,
   "metadata": {},
   "outputs": [
    {
     "data": {
      "text/plain": [
       "7.961783439490445"
      ]
     },
     "execution_count": 113,
     "metadata": {},
     "output_type": "execute_result"
    }
   ],
   "source": [
    "Pi = 3.14\n",
    "\n",
    "l = 10 # Длина окружности\n",
    "\n",
    "S = l ** 2 / (4 * Pi) # Формула для нахождения площади окружности через её длину\n",
    "\n",
    "S"
   ]
  },
  {
   "cell_type": "markdown",
   "metadata": {},
   "source": [
    "#### Задание 13\n",
    "Составить алгоритм и написать программу. Дана строка. Вывести строку, содержащую те же символы, но расположенные в обратном порядке."
   ]
  },
  {
   "cell_type": "code",
   "execution_count": 115,
   "metadata": {},
   "outputs": [
    {
     "data": {
      "text/plain": [
       "'987654321fedcba'"
      ]
     },
     "execution_count": 115,
     "metadata": {},
     "output_type": "execute_result"
    }
   ],
   "source": [
    "a = 'abcdef123456789' # Дана строка\n",
    "\n",
    "a[::-1] # Выводим строку в обратном порядке"
   ]
  },
  {
   "cell_type": "markdown",
   "metadata": {},
   "source": [
    "#### Задание 20\n",
    "Даны списки:\n",
    "\n",
    "- a = [1, 1, 2, 3, 5, 8, 13, 21, 34, 55, 89];\n",
    "- b = [1, 2, 3, 4, 5, 6, 7, 8, 9, 10, 11, 12, 13].\n",
    "\n",
    "Нужно вернуть список, который состоит из элементов, общих для этих двух списков."
   ]
  },
  {
   "cell_type": "code",
   "execution_count": 89,
   "metadata": {},
   "outputs": [
    {
     "data": {
      "text/plain": [
       "[1, 1, 2, 3, 5, 8, 13]"
      ]
     },
     "execution_count": 89,
     "metadata": {},
     "output_type": "execute_result"
    }
   ],
   "source": [
    "a = [1, 1, 2, 3, 5, 8, 13, 21, 34, 55, 89]\n",
    "b = [1, 2, 3, 4, 5, 6, 7, 8, 9, 10, 11, 12, 13]\n",
    "c = []\n",
    "\n",
    "for aa in a:\n",
    "    for bb in b:\n",
    "        if (aa == bb):\n",
    "            c.append(aa)\n",
    "\n",
    "c"
   ]
  },
  {
   "cell_type": "markdown",
   "metadata": {},
   "source": [
    "#### Задание 21\n",
    "Дана строка. Получите новую строку, вставив между двумя симвловами исходной строки символ *. Ввыведите полученную строку.\n",
    "\n",
    "Пример:\n",
    "\n",
    "Входные данные (Python) - выходные данные (P\\*y\\*t\\*h\\*o\\*n)"
   ]
  },
  {
   "cell_type": "code",
   "execution_count": 40,
   "metadata": {},
   "outputs": [
    {
     "data": {
      "text/plain": [
       "'P*y*t*h*o*n'"
      ]
     },
     "execution_count": 40,
     "metadata": {},
     "output_type": "execute_result"
    }
   ],
   "source": [
    "a = 'Python'\n",
    "r = ''\n",
    "\n",
    "f = True\n",
    "\n",
    "for aa in a:\n",
    "    if (f): f = False; r += aa\n",
    "    else: r += '*' + aa\n",
    "\n",
    "r"
   ]
  },
  {
   "cell_type": "markdown",
   "metadata": {},
   "source": [
    "#### Задание 22\n",
    "Даны два целых числа, найти их наибольший общий делитель и наименьшее общее кратное."
   ]
  },
  {
   "cell_type": "code",
   "execution_count": 41,
   "metadata": {},
   "outputs": [
    {
     "name": "stdout",
     "output_type": "stream",
     "text": [
      "НОД: 3\n",
      "НОК: 21\n"
     ]
    }
   ],
   "source": [
    "def gcd(a, b):\n",
    "    while max(a, b) % min (a, b) != 0:\n",
    "        if a > b:\n",
    "            a = a%b\n",
    "        elif a < b:\n",
    "            b = b%a\n",
    "    return min(a, b)\n",
    "\n",
    "def lcm(a, b):\n",
    "    return int(a * b / gcd(a, b))\n",
    "\n",
    "a, b = 3, 21\n",
    "\n",
    "print('НОД: ' + str(gcd(a, b)))\n",
    "print('НОК: ' + str(lcm(a, b)))"
   ]
  },
  {
   "cell_type": "markdown",
   "metadata": {},
   "source": [
    "#### Задание 23\n",
    "С клавиатуры задаётся число месяца (тип int). Необходимо определить время года (зима, весна, лето, осень) и вывести на консоль."
   ]
  },
  {
   "cell_type": "code",
   "execution_count": 42,
   "metadata": {},
   "outputs": [
    {
     "name": "stdout",
     "output_type": "stream",
     "text": [
      "Весна\n"
     ]
    }
   ],
   "source": [
    "a = int(input('Введите число: '))\n",
    "\n",
    "if a in [12, 1, 2]:\n",
    "    print('Зима')\n",
    "elif a in [3, 4, 5]:\n",
    "    print('Весна')\n",
    "elif a in [6, 7, 8]:\n",
    "    print('Лето')\n",
    "elif a in [9, 10, 11]:\n",
    "    print('Осень')\n",
    "else:\n",
    "    print('Число не распознано')"
   ]
  },
  {
   "cell_type": "markdown",
   "metadata": {},
   "source": [
    "#### Задание 24\n",
    "Составить алгоритм и написать программу. С клавиатуры задаются 5 чисел (тип int). Вывести вначале наименьшее, а затем наибольшее из данных чисел."
   ]
  },
  {
   "cell_type": "code",
   "execution_count": 43,
   "metadata": {},
   "outputs": [
    {
     "name": "stdout",
     "output_type": "stream",
     "text": [
      "Наименьшее число:  1\n",
      "Наибольшее число:  5\n"
     ]
    }
   ],
   "source": [
    "a, b, c, d, e = int(input('Введите 1 число: ')), int(input('Введите 2 число: ')), int(input('Введите 3 число: ')), int(input('Введите 4 число: ')), int(input('Введите 5 число: '))\n",
    "print('Наименьшее число: ', min(a, b, c, d, e))\n",
    "print('Наибольшее число: ', max(a, b, c, d, e))"
   ]
  },
  {
   "cell_type": "markdown",
   "metadata": {},
   "source": [
    "#### Задание 25\n",
    "Создайте массив, содержащий 10 первых нечетных чисел. Выведете элементы массива на консоль в одну строку, разделяя запятой."
   ]
  },
  {
   "cell_type": "code",
   "execution_count": 44,
   "metadata": {},
   "outputs": [
    {
     "data": {
      "text/plain": [
       "'1, 3, 5, 7, 9, 11, 13, 15, 17, 19'"
      ]
     },
     "execution_count": 44,
     "metadata": {},
     "output_type": "execute_result"
    }
   ],
   "source": [
    "a = [1, 3, 5, 7, 9, 11, 13, 15, 17, 19]\n",
    "r = ''\n",
    "f = True\n",
    "\n",
    "for aa in a:\n",
    "    if (f): f = False; r += str(aa)\n",
    "    else: r += ', ' + str(aa)\n",
    "\n",
    "r"
   ]
  }
 ],
 "metadata": {
  "interpreter": {
   "hash": "b4ade4ae6f09939d3e0420b89981bbc04e8eb04a0882c30c6b4fc62161f48d26"
  },
  "kernelspec": {
   "display_name": "Python 3.10.4 64-bit (system)",
   "language": "python",
   "name": "python3"
  },
  "language_info": {
   "codemirror_mode": {
    "name": "ipython",
    "version": 3
   },
   "file_extension": ".py",
   "mimetype": "text/x-python",
   "name": "python",
   "nbconvert_exporter": "python",
   "pygments_lexer": "ipython3",
   "version": "3.10.4"
  },
  "orig_nbformat": 4
 },
 "nbformat": 4,
 "nbformat_minor": 2
}
